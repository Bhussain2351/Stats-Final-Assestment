{
 "cells": [
  {
   "cell_type": "code",
   "execution_count": 5,
   "id": "8fc074fc-6c3d-4829-b7e4-48debbdd4fbc",
   "metadata": {},
   "outputs": [
    {
     "name": "stdout",
     "output_type": "stream",
     "text": [
      "Degree of freedom 1: 24\n",
      "Degree of freedom 2: 19\n",
      "F-statistic: 0.8796367180627466\n",
      "p-value: 0.3784910723060456\n"
     ]
    }
   ],
   "source": [
    "#1 Ans.\n",
    "\n",
    "import numpy as np\n",
    "import scipy.stats as stats\n",
    "\n",
    "# Create the data for two groups\n",
    "group1 = np.random.rand(25)\n",
    "group2 = np.random.rand(20)\n",
    "\n",
    "# Calculate the sample variances\n",
    "variance1 = np.var(group1, ddof=1)\n",
    "variance2 = np.var(group2, ddof=1)\n",
    "\n",
    "# Calculate the F-statistic\n",
    "f_value = variance1 / variance2\n",
    "\n",
    "# Calculate the degrees of freedom\n",
    "df1 = len(group1) - 1\n",
    "df2 = len(group2) - 1\n",
    "\n",
    "# Calculate the p-value\n",
    "p_value = stats.f.cdf(f_value, df1, df2)\n",
    "\n",
    "# Print the results\n",
    "print('Degree of freedom 1:',df1)\n",
    "print('Degree of freedom 2:',df2)\n",
    "print(\"F-statistic:\", f_value)\n",
    "print(\"p-value:\", p_value)\n"
   ]
  },
  {
   "cell_type": "code",
   "execution_count": 6,
   "id": "da7ea7c0-b423-48f9-8c4d-b1f0426ab892",
   "metadata": {},
   "outputs": [],
   "source": [
    "#2 Ans.\n",
    "\n",
    "# from scipy.stats import f\n",
    "\n",
    "# def critical_f_value(alpha, df_num, df_den):\n",
    "#     \"\"\"\n",
    "#     Calculate the critical F-value for a two-tailed test.\n",
    "\n",
    "#     Parameters:\n",
    "#         alpha (float): The significance level (e.g., 0.05 for 5% significance).\n",
    "#         df_num (int): Degrees of freedom for the numerator.\n",
    "#         df_den (int): Degrees of freedom for the denominator.\n",
    "\n",
    "#     Returns:\n",
    "#         crit_f_value (float): The critical F-value for the two-tailed test.\n",
    "#     \"\"\"\n",
    "#     # Calculate the critical F-value for a two-tailed test\n",
    "#     crit_f_value = f.ppf(1 - alpha / 2, df_num, df_den)\n",
    "\n",
    "#     return crit_f_value"
   ]
  },
  {
   "cell_type": "code",
   "execution_count": 7,
   "id": "9125a851-4527-4107-85d8-7bfe09d292a2",
   "metadata": {},
   "outputs": [],
   "source": [
    "#3 Ans.\n",
    "\n",
    "# # An F-test (Snedecor and Cochran, 1983) is used to test if the variances of two populations are equal. \n",
    "# # This test can be a two-tailed test or a one-tailed test.\n",
    "# The two-tailed version tests against the alternative that the variances are not equal.\n",
    "# The one-tailed version only tests in one direction, that is the variance from \n",
    "# the first population is either greater than or less than (but not both) the second population variance.\n",
    "# The choice is determined by the problem. For example, if we are testing a new process, we may only be interested in knowing \n",
    "# # if the new process is less variable than the old process."
   ]
  },
  {
   "cell_type": "code",
   "execution_count": 8,
   "id": "e7520dd3-4f93-4640-991e-dafec4faf499",
   "metadata": {},
   "outputs": [],
   "source": [
    "#4 Ans.\n",
    "\n",
    "# The basic method must be fleshed out with some details if you are going to use this test at work.\n",
    "# There are two sets of details: first, formally writing hypotheses, and second,\n",
    "# using the F-distribution tables so that you can tell if your F-score is close to one or not. Formally,\n",
    "# two hypotheses are needed for completeness. The first is the null hypothesis that there is no difference (hence null).\n",
    "# It is usually denoted as Ho. The second is that there is a difference,\n",
    "# and it is called the alternative, and is denoted H1 or Ha."
   ]
  },
  {
   "cell_type": "code",
   "execution_count": 9,
   "id": "53660f81-9089-42de-b753-a04067895410",
   "metadata": {},
   "outputs": [],
   "source": [
    "# 5 Ans.\n",
    "\n",
    "# The distribution used for the hypothesis test is a new one. It is called the F distribution, named after Sir Ronald Fisher, an English statistician. The F statistic is a ratio (a fraction). There are two sets of degrees of freedom; one for the numerator and one for the denominator.\n",
    "\n",
    "# For example, if  F follows an F distribution and the number of degrees of freedom for the numerator is four, and the number of degrees of freedom for the denominator is ten, then F ~ F4,10.\n",
    "\n"
   ]
  },
  {
   "cell_type": "code",
   "execution_count": null,
   "id": "7ea53272-ef9f-44b3-b701-c6c47a693ab9",
   "metadata": {},
   "outputs": [],
   "source": []
  }
 ],
 "metadata": {
  "kernelspec": {
   "display_name": "Python 3 (ipykernel)",
   "language": "python",
   "name": "python3"
  },
  "language_info": {
   "codemirror_mode": {
    "name": "ipython",
    "version": 3
   },
   "file_extension": ".py",
   "mimetype": "text/x-python",
   "name": "python",
   "nbconvert_exporter": "python",
   "pygments_lexer": "ipython3",
   "version": "3.10.8"
  }
 },
 "nbformat": 4,
 "nbformat_minor": 5
}
